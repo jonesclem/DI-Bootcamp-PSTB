{
 "cells": [
  {
   "cell_type": "markdown",
   "id": "97537dc1-1cb8-4969-ba44-50f7a854f6ef",
   "metadata": {},
   "source": [
    "**On commence simple avec ce premier exercice, qui consiste à déclarer différents types de variables.**\n",
    "\n",
    "- La variable 'prenom' qui doit contenir la chaîne de caractère Pierre.\n",
    "- La variable 'age' qui doit contenir le nombre 20.\n",
    "- La variable 'majeur' qui doit contenir un boolean vrai.\n",
    "- La variable 'compte_en_banque' qui doit contenir le nombre décimal 20135,384.\n",
    "- La variable 'amis' qui doit contenir une liste contenant trois chaînes de caractères : Marie, Julien et Adrien.\n",
    "\n",
    "* La variable 'parents' qui doit contenir un tuple contenant deux chaînes de caractères : Marc et Caroline."
   ]
  },
  {
   "cell_type": "code",
   "execution_count": null,
   "id": "4143826f-9e4f-4d78-bdc7-4608bf98ef97",
   "metadata": {},
   "outputs": [],
   "source": [
    "prenom = 'Pierre'\n",
    "age = 20.\n",
    "majeur = True \n",
    "compte_en_banque = 20135.384\n",
    "amis = ['Marie', 'Julien', 'Adrien']\n",
    "parents = ('Marc', 'Czroline')"
   ]
  },
  {
   "cell_type": "markdown",
   "id": "f618d850-9a01-48f6-8721-68ad5d4910be",
   "metadata": {},
   "source": [
    "### 002 - Erreur déclaration variable\n",
    "- Notions abordées : `les variables`.\n",
    "\n",
    "- Une erreur s'est glissée dans la déclaration de la variable site_web, à vous de la trouver et de la corriger pour que le script affiche le nom du site web.\n",
    "\n"
   ]
  },
  {
   "cell_type": "code",
   "execution_count": null,
   "id": "01fcd770-cdd7-46f5-a051-559b49c18d9e",
   "metadata": {},
   "outputs": [],
   "source": [
    "site_web = \"PSTB\"\n",
    "print(site_web)"
   ]
  },
  {
   "cell_type": "markdown",
   "id": "25aaca9b-891c-46cc-8487-05088c1537a2",
   "metadata": {},
   "source": [
    "### 003 - Convertir une variable d'un type à un autre\n",
    "Notions abordées : `les variables.`\n",
    "\n",
    "- Dans cet exercice, nous allons afficher un nombre à l'intérieur d'une chaîne de caractères.\n",
    "\n",
    "- Python ne permet pas de concaténer une chaîne de caractères avec un nombre, il va donc falloir convertir le nombre en chaîne de caractères.\n",
    "\n",
    "-Votre script devra donc afficher :\n",
    "    "
   ]
  },
  {
   "cell_type": "code",
   "execution_count": null,
   "id": "5e343bff-7b6b-4fb0-96a8-78c5301cae54",
   "metadata": {},
   "outputs": [],
   "source": [
    "nombre = 15\n",
    "print(\"Le nombre est \" + str(nombre))"
   ]
  },
  {
   "cell_type": "markdown",
   "id": "e5f41981-91e6-45f3-803e-488e710dff06",
   "metadata": {},
   "source": [
    "### 004 - Trouver la valeur d'une variable\n",
    "- Notions abordées :`les variables`.\n",
    "\n",
    "- Pour réussir l'exercice, vous devez printer la valeur que contient la variable a.\n"
   ]
  },
  {
   "cell_type": "code",
   "execution_count": null,
   "id": "d014e4c5-0368-49e4-b5ca-7ec2186a00be",
   "metadata": {},
   "outputs": [],
   "source": [
    "a = 3\n",
    "b = 6\n",
    "a = b\n",
    "b = 7\n",
    "\n",
    "print(a)"
   ]
  },
  {
   "cell_type": "markdown",
   "id": "f1748638-6388-4bda-9be5-237c764be775",
   "metadata": {},
   "source": [
    "### 005 - Ajouter un séparateur dans la fonction print\n",
    "- Notions abordées : `La fonction print`.\n",
    "\n",
    "* Dans cet exercice, nous allons utiliser les nouvelles fonctionnalités de Python 3, afin de printer les 3 variables a, b et c, séparées par un symbole d'addition (+).\n",
    "\n",
    "* Votre script doit donc afficher : 2 + 6 + 3."
   ]
  },
  {
   "cell_type": "code",
   "execution_count": null,
   "id": "edcb6256-5e1e-4e19-b61a-d967c2a1f71d",
   "metadata": {},
   "outputs": [],
   "source": [
    "a = 2\n",
    "b = 6\n",
    "c = 3\n",
    "\n",
    "#print(a,'+',b,'+',c)\n",
    "print(a, b, c, sep=\" + \")"
   ]
  },
  {
   "cell_type": "markdown",
   "id": "61ac528c-3c61-4d8c-bb9c-218fbb8b5176",
   "metadata": {},
   "source": [
    "### 006 - Erreur dans la déclaration d'une variable\n",
    "- Notions abordées : `les variables`.\n",
    "\n",
    "* Le but de cet exercice est de trouver et réparer l'erreur présente dans le code.\n",
    "\n",
    "* Vous devez modifier le code dans la console afin de ne plus avoir d'erreurs lors de l'exécution du script.\n",
    "\n",
    "* Vous ne devez pas toucher à la fonction print, juste la déclaration des variables.\n",
    "\n"
   ]
  },
  {
   "cell_type": "code",
   "execution_count": 1,
   "id": "37372986-e77a-4316-ba8b-13d1b7fff0dc",
   "metadata": {},
   "outputs": [
    {
     "name": "stdout",
     "output_type": "stream",
     "text": [
      "[0, 1, 2, 3, 4]\n"
     ]
    }
   ],
   "source": [
    "list1 = range(3)\n",
    "list2 = range(5)\n",
    "print(list(list2))"
   ]
  },
  {
   "cell_type": "markdown",
   "id": "ff31466d-98b3-418a-91d6-8d74e6a6a7b7",
   "metadata": {},
   "source": [
    "* En écrasant le mot réservé 'list' par 'range(3)', nous écrasons la fonction list et quand nous voulons l'utiliser plus loin dans notre script.\n",
    "* Python essaie de convertir notre liste 'list2' avec l'objet 'range' contenu à l'intérieur de la variable 'list' au lieu d'utiliser la fonction list."
   ]
  },
  {
   "cell_type": "markdown",
   "id": "8bf4e9da-d3f5-4845-954e-85ba8e9c8a21",
   "metadata": {},
   "source": [
    "### 007 - Vérifier si une variable est d'un certain type\n",
    "- Notions abordées : les variables.\n",
    "\n",
    "* Dans cet exercice, vous allez devoir vérifier que la variable 'prenom' est bien une chaîne de caractères.\n",
    "\n",
    "* La variable prenom est définie au début du script par une chaîne de caractère.\n",
    "\n",
    "* Votre script doit donc printer une première fois la phrase \"La variable est une chaîne de caractères\".\n",
    "\n",
    "* La variable prenom est ensuite redéfinie et assignée au nombre 0.\n",
    "\n",
    "* Vous devez donc tester de nouveau votre condition mais cette fois-ci, votre script ne doit pas printer la phrase.\n",
    "\n"
   ]
  },
  {
   "cell_type": "code",
   "execution_count": 2,
   "id": "a704dddb-7c78-495d-9b13-bddac53f318d",
   "metadata": {},
   "outputs": [
    {
     "name": "stdout",
     "output_type": "stream",
     "text": [
      "La variable est une chaîne de caractères\n"
     ]
    }
   ],
   "source": [
    "prenom = \"Pierre\"\n",
    " \n",
    "if type(prenom) == str:\n",
    "    print(\"La variable est une chaîne de caractères\")\n",
    " \n",
    "prenom = 0\n",
    " \n",
    "if isinstance(prenom, str):\n",
    "    print(\"La variable est une chaîne de caractères\")\n",
    "# Cette fois-ci, la variable n'est pas égale à une chaîne de caractère. \n",
    "#Votre condition doit donc être fausse et la phrase ne doit pas s'afficher."
   ]
  },
  {
   "cell_type": "markdown",
   "id": "93afb9be-3232-49ca-97cc-9938f999f635",
   "metadata": {},
   "source": [
    "### 008 - Remplacer un mot par un autre\n",
    "- Notions abordées : les chaînes de caractères.\n",
    "\n",
    "- Dans cet exercice, vous devez remplacer le mot 'Bonjour' dans la variable phrase par le mot 'Bonsoir' à l'aide d'une fonction Python.\n",
    "\n",
    "- Vous devez donc modifier la variable phrase !\n",
    "\n",
    "- Votre script devra donc afficher le texte :\n",
    "\n",
    "`\"Bonsoir tout le monde.\"` "
   ]
  },
  {
   "cell_type": "code",
   "execution_count": 4,
   "id": "195f7d46-a408-4af3-92df-fe0820e0d069",
   "metadata": {},
   "outputs": [
    {
     "name": "stdout",
     "output_type": "stream",
     "text": [
      "Bonjour tout le monde.\n",
      "Bonsoir tout le monde.\n"
     ]
    }
   ],
   "source": [
    "phrase = \"Bonjour tout le monde.\"\n",
    "print(phrase)\n",
    "nouvelle_phrase = phrase.replace(\"Bonjour\", \"Bonsoir\")\n",
    "print(nouvelle_phrase)"
   ]
  },
  {
   "cell_type": "markdown",
   "id": "8456ad5a-e424-40fd-9675-4473b5da8a30",
   "metadata": {},
   "source": [
    "### 009 - Ordonner une chaîne de caractère\n",
    " Notions abordées : les chaînes de caractères.\n",
    "\n",
    "- Le but de cet exercice et de remettre en ordre alphabétique les prénoms présents dans la chaîne de caractères.\n",
    "\n",
    "- Vous devez donc afficher à la fin de l'exercice, la chaîne de caractères suivante\n",
    "\n",
    "- Anne, Julien, Lucien, Marie, Pierre\n",
    "\n",
    "- Attention, les espaces sont importants si vous voulez valider l'exercice !"
   ]
  },
  {
   "cell_type": "code",
   "execution_count": 6,
   "id": "519b5f33-6799-497b-b402-f0840fcf5b12",
   "metadata": {},
   "outputs": [
    {
     "name": "stdout",
     "output_type": "stream",
     "text": [
      "Anne, Julien, Lucien, Marie, Pierre\n"
     ]
    }
   ],
   "source": [
    "chaine = \"Pierre, Julien, Anne, Marie, Lucien\"\n",
    "chaine_liste = chaine.split(\", \") # 1 spliter la chaine\n",
    "chaine_liste.sort() # 2 sorter()\n",
    "chaine_en_ordre = \", \".join(chaine_liste) # 3 refaire les espaces entre les strings\n",
    "print(chaine_en_ordre) # dans l'ordre"
   ]
  },
  {
   "cell_type": "markdown",
   "id": "f6f201da-3b81-4047-bd09-d27ff0c2c603",
   "metadata": {},
   "source": [
    "POINTS IMPORTANTS À RETENIR\n",
    "* On ne peut pas trier une chaîne de caractère.\n",
    "* Pour séparer une chaîne de caractère en plusieurs éléments, on utilise la fonction split.\n",
    "* Pour trier une liste, on utilise la fonction sort.\n",
    "* Pour joindre différents éléments d'une liste par une chaîne de caractère, on utilise la méthode join."
   ]
  },
  {
   "cell_type": "markdown",
   "id": "e109f161-1fba-4f79-8849-31b40f3a8a58",
   "metadata": {},
   "source": [
    "### 010 - Calculer le volume d'une sphère\n",
    "Notions abordées : les opérateurs mathématiques.\n",
    "\n",
    "- Dans cet exercice, nous allons calculer le volume d'une sphère ayant pour rayon 10 centimètres.\n",
    "\n",
    "- La formule pour calculer le volume d'une sphère est :\n",
    "\n",
    "`(4π/3) × rayon³`\n",
    "- rayon représentant la valeur du rayon (défini dans le code par la variable rayon).\n",
    "\n",
    "- Pour réussir l'exercice, vous devez uniquement afficher le volume de la sphère, si vous rajoutez du texte en plus l'exercice ne sera pas validé (donc il suffit de laisser le print(volume) à la fin et de calculer le volume à la ligne d'avant).\n",
    "\n"
   ]
  },
  {
   "cell_type": "code",
   "execution_count": 7,
   "id": "ca01afe8-e6e3-4cee-a50c-451139271541",
   "metadata": {},
   "outputs": [
    {
     "name": "stdout",
     "output_type": "stream",
     "text": [
      "4188.790204786391\n"
     ]
    }
   ],
   "source": [
    "import math\n",
    "rayon = 10.0\n",
    "volume = (4.0 * math.pi / 3.0) * (rayon ** 3)\n",
    "print(volume)"
   ]
  },
  {
   "cell_type": "markdown",
   "id": "cf8cc217-8467-4ecd-8053-97b30d30d469",
   "metadata": {},
   "source": [
    "### 011 - Tester si un nombre est plus grand que 10\n",
    "\n",
    "Notions abordées : structures conditionnelles.\n",
    "\n",
    "* Dans cet exercice, nous allons utiliser une structure conditionnelle pour vérifier si a est plus grand ou non que 10.\n",
    "\n",
    "* Dans ce cas-ci, a est égal à 12, votre script devra donc afficher 'a est plus grand que 10'\n",
    "\n",
    "* Aller plus loin : Vous pouvez également rajouter une condition pour tester si la variable a contient bien un nombre."
   ]
  },
  {
   "cell_type": "code",
   "execution_count": 12,
   "id": "2bc1bcd2-0130-47ef-95f2-39711ddcfe21",
   "metadata": {},
   "outputs": [
    {
     "name": "stdout",
     "output_type": "stream",
     "text": [
      "a est plus grand que 10\n"
     ]
    }
   ],
   "source": [
    "a = 12\n",
    "if a > 10:\n",
    "    print(\"a est plus grand que 10\")\n",
    "elif a < 10:\n",
    "    print(\"a est plus petit que 10\")"
   ]
  },
  {
   "cell_type": "code",
   "execution_count": 14,
   "id": "77e701b8-7f11-4171-b6b9-04c6b7001aa6",
   "metadata": {},
   "outputs": [
    {
     "name": "stdout",
     "output_type": "stream",
     "text": [
      "La variable a ne contient pas un nombre\n"
     ]
    }
   ],
   "source": [
    "a = '12'  # tu peux tester avec \"douze\" par exemple\n",
    "\n",
    "if isinstance(a, (int, float)):\n",
    "    if a > 10:\n",
    "        print(\"a est plus grand que 10\")\n",
    "    else:\n",
    "        print(\"a n'est pas plus grand que 10\")\n",
    "else:\n",
    "    print(\"La variable a ne contient pas un nombre\")"
   ]
  },
  {
   "cell_type": "markdown",
   "id": "d3ef0959-ab8e-4b02-8bc8-8915d793f748",
   "metadata": {},
   "source": [
    "### 012 - Créer une liste de nombres de 5 à 15\n",
    "Notions abordées : les listes.\n",
    "\n",
    "- Dans cet exercice, on continue avec des opérations assez simples utilisant les bases du langage Python.\n",
    "\n",
    "- Le but ici est de créer une liste de nombres allant de 5 à 15 en utilisant une fonction de base de Python.\n",
    "\n",
    "- Pour valider l'exercice, vous devez afficher cette liste, en utilisant la fonction print.\n",
    "\n"
   ]
  },
  {
   "cell_type": "code",
   "execution_count": 19,
   "id": "5708d738-4a71-4030-9f41-884526fc12e1",
   "metadata": {},
   "outputs": [
    {
     "name": "stdout",
     "output_type": "stream",
     "text": [
      "[5, 6, 7, 8, 9, 10, 11, 12, 13, 14, 15]\n"
     ]
    }
   ],
   "source": [
    "a = range(5, 16)\n",
    "print(list(a))"
   ]
  },
  {
   "cell_type": "markdown",
   "id": "88a5cb34-a356-462b-bd31-d0d53666a5cf",
   "metadata": {},
   "source": [
    "### 013 - Créer une liste de nombres pairs de 1 à 100\n",
    "Notions abordées : les listes.\n",
    "\n",
    "- Dans cet exercice, on continue avec la fonction range, cette fois-ci pour créer une liste de nombres pairs allant de 1 à 100.\n",
    "\n",
    "- Votre script doit afficher la liste, pensez-donc à faire un print à la fin. Si vous faites juste déclarer la liste, l'exercice ne sera pas validé."
   ]
  },
  {
   "cell_type": "code",
   "execution_count": 21,
   "id": "abf891c1-5f66-4dc2-ae9c-a494de275512",
   "metadata": {},
   "outputs": [
    {
     "name": "stdout",
     "output_type": "stream",
     "text": [
      "[2, 4, 6, 8, 10, 12, 14, 16, 18, 20, 22, 24, 26, 28, 30, 32, 34, 36, 38, 40, 42, 44, 46, 48, 50, 52, 54, 56, 58, 60, 62, 64, 66, 68, 70, 72, 74, 76, 78, 80, 82, 84, 86, 88, 90, 92, 94, 96, 98, 100]\n"
     ]
    }
   ],
   "source": [
    "a = range(2,101,2)\n",
    "print(list(a))"
   ]
  },
  {
   "cell_type": "markdown",
   "id": "b885c252-9882-4f59-8bde-092a0e017c52",
   "metadata": {},
   "source": [
    "### 014 - Créer un générateur de lancer de dés\n",
    "Notions abordées : les modules, la boucle for.\n",
    "\n",
    "- Le but de cet exercice est de générer 6 lancer de dés aléatoires, allant de 1 à 6.\n",
    "\n",
    "- Votre script devra donc par exemple retourner les lancer suivants :\n",
    "\n",
    "1\n",
    "4\n",
    "5\n",
    "2\n",
    "2\n",
    "6"
   ]
  },
  {
   "cell_type": "code",
   "execution_count": 23,
   "id": "9a6ec937-1b70-4400-a536-86c0af57aac5",
   "metadata": {},
   "outputs": [
    {
     "name": "stdout",
     "output_type": "stream",
     "text": [
      "5\n",
      "1\n",
      "6\n",
      "4\n",
      "4\n",
      "2\n"
     ]
    }
   ],
   "source": [
    "import random\n",
    " \n",
    "for _ in range(6):\n",
    "    nombre = random.choice(range(1, 7))\n",
    "    print(nombre)"
   ]
  },
  {
   "cell_type": "code",
   "execution_count": 25,
   "id": "8a58689d-2816-4c92-a0f8-e7ede8c5ea7d",
   "metadata": {},
   "outputs": [
    {
     "name": "stdout",
     "output_type": "stream",
     "text": [
      "1\n",
      "4\n",
      "2\n",
      "1\n",
      "2\n",
      "3\n"
     ]
    }
   ],
   "source": [
    "for _ in range(6):\n",
    "    nombre = random.randint(1, 6) \n",
    "    print(nombre)"
   ]
  },
  {
   "cell_type": "markdown",
   "id": "48759a40-d13a-49e0-8c5f-2c5f36493ee4",
   "metadata": {},
   "source": [
    "* Pour générer des nombres aléatoires, on utilise le module random qui dispose de plusieurs fonctions nous permettant de générer des nombres aléatoires.\n",
    "\n",
    "* Celle que nous utilisons dans le cadre de cette exercice est la fonction 'choice'. Cette fonction nous permet de choisir un élément aléatoire parmi une liste de plusieurs éléments.\n",
    "\n",
    "* Pour générer un nombre aléatoire de 1 à 6, nous utilisons donc la ligne de code suivante :\n",
    "\n",
    "`nombre = random.choice(range(1, 7))` \n",
    "\n",
    "* Si vous ne voulez pas passer par une liste, vous pouvez également utiliser la fonction randint, comme ceci :\n",
    "\n",
    "`nombre = random.randint(1, 6)` \n",
    "\n",
    "* La deuxième indication de l'exercice était de générer 6 lancer de dés.\n",
    "\n",
    "  * Pour cela, on utilise une boucle for et encore une fois la fonction range, pour répéter l'opération 6 fois :\n",
    "  * nous utilisons un nom de variable assez spécifique (un tiret du bas). En effet, ce nom de variable est une convention en Python lorsque l'on génère une variable que l'on ne compte pas utiliser. Ici, on veut juste répéter une opération"
   ]
  },
  {
   "cell_type": "markdown",
   "id": "9939a82e-0775-46d9-9e2e-3e78f081b6c3",
   "metadata": {},
   "source": [
    "### 015 - Compter le nombre d'occurrences d'une lettre dans une phrase\n",
    "Notions abordées : **les chaînes de caractères**.\n",
    "\n",
    "- Dans cet exercice, nous cherchons à compter le nombre d'occurrences d'une lettre dans une chaîne de caractères.\n",
    "\n",
    "- Ici, nous cherchons le nombre de fois que la lettre \"o\" apparaît dans la phrase \"Bonjour tout le monde\".\n",
    "\n",
    "- Votre script devra donc retourner dans ce cas-ci le nombre 4 !"
   ]
  },
  {
   "cell_type": "code",
   "execution_count": 28,
   "id": "02a9a59c-de2e-4213-9035-8a197acfd3ee",
   "metadata": {},
   "outputs": [
    {
     "name": "stdout",
     "output_type": "stream",
     "text": [
      "4\n"
     ]
    }
   ],
   "source": [
    "lettre_a_chercher = \"o\"\n",
    "phrase = \"Bonjour tout le monde\"\n",
    "count=0\n",
    "for _ in phrase:\n",
    "    if _ == lettre_a_chercher: \n",
    "        count +=1\n",
    "    else:\n",
    "        count += 0\n",
    "print(count)\n",
    "#V2\n",
    "lettre_a_chercher = \"o\"\n",
    "phrase = \"Bonjour tout le monde\"\n",
    "print(phrase.lower().count(lettre_a_chercher))"
   ]
  },
  {
   "cell_type": "markdown",
   "id": "d18cb081-26d9-45bd-9afb-1d48618fce79",
   "metadata": {},
   "source": [
    "### 016 - Récupérer un élément dans une liste\n",
    "Notions abordées : `Les listes`.\n",
    "\n",
    "- On retourne aux bases de Python dans cet exercice dans lequel vous devez tout simplement récupérer le premier élément de la liste.\n",
    "\n",
    "- Dans cet exemple, vous devez afficher la chaîne de caractères 'Pierre'."
   ]
  },
  {
   "cell_type": "code",
   "execution_count": 29,
   "id": "b905ca6b-8a0d-477f-bc2c-73908cceb6dc",
   "metadata": {},
   "outputs": [
    {
     "name": "stdout",
     "output_type": "stream",
     "text": [
      "Pierre\n"
     ]
    }
   ],
   "source": [
    "ma_liste = [\"Pierre\", \"Paul\", \"Marie\"]\n",
    "print(ma_liste[0])"
   ]
  },
  {
   "cell_type": "markdown",
   "id": "05962e16-393a-4b78-9d08-691f40597fa6",
   "metadata": {},
   "source": [
    "### 017 - Récupérer des éléments dans une liste\n",
    "Notions abordées : les listes.\n",
    "\n",
    "- On monte d'un cran dans cet exercice, dans lequel vous devez récupérer plusieurs éléments de la liste.\n",
    "\n",
    "- Pour réussir cet exercice, vous devez afficher le premier élément ('Pierre'), le dernier élément ('Marie'), les deux premiers éléments (['Pierre', 'Paul']) et les deux derniers éléments (['Paul', 'Marie']) avec la fonction print.\n",
    "\n",
    "\n",
    "\n",
    "\n",
    "\n",
    "\n",
    "\n",
    "\n",
    "\n",
    "\n",
    "\n",
    "\n",
    "\n",
    "\n",
    "\n",
    "\n",
    "\n",
    "\n",
    "\n",
    "\n",
    "\n",
    "\n",
    "\n",
    "\n",
    "\n",
    "\n",
    "\n",
    "\n",
    "\n",
    "\n",
    "\n",
    "\n",
    "\n",
    "\n",
    "\n",
    "\n",
    "\n",
    "\n",
    "\n",
    "\n",
    "\n",
    "\n",
    "\n",
    "\n",
    "\n",
    "\n",
    "\n",
    "\n",
    "\n",
    "\n",
    "\n",
    "\n",
    "\n",
    "\n",
    "\n",
    "\n",
    "\n",
    "\n",
    "\n",
    "\n",
    "\n",
    "\n",
    "\n",
    "\n",
    "\n",
    "\n",
    "\n",
    "\n",
    "\n",
    "Astuces : Pour récupérer plusieurs éléments d'une liste, on utiliser ce qu'on appelle les slice. Une petite recherche sur Google devrait vous aider à démystifier le sujet si vous êtes perdus ;)\n",
    "\n",
    " ",
    " ",
    "\n",
    "Toutes les modifications enregistrées\n",
    "|\n",
    "Ligne 1, colonne 1\n"
   ]
  },
  {
   "cell_type": "code",
   "execution_count": 31,
   "id": "a9618464-9db7-4a41-aa57-e724648f2030",
   "metadata": {},
   "outputs": [
    {
     "name": "stdout",
     "output_type": "stream",
     "text": [
      "Pierre\n",
      "Marie\n",
      "['Pierre', 'Paul']\n",
      "['Paul', 'Marie']\n"
     ]
    }
   ],
   "source": [
    "ma_liste = [\"Pierre\", \"Paul\", \"Marie\"]\n",
    "print(ma_liste[0])\n",
    "print(ma_liste[-1])\n",
    "print(ma_liste[:2])\n",
    "print(ma_liste[-2:])"
   ]
  },
  {
   "cell_type": "markdown",
   "id": "07305cf6-4c97-4daf-b081-09f5aa8c9c23",
   "metadata": {},
   "source": [
    "### 018 - Récupérer un élément sur deux dans une liste\n",
    "Notions abordées : Les listes.\n",
    "\n",
    "- On continue avec les listes. Cette fois-ci, l'objectif de l'exercice est de récupérer un élément sur deux dans la liste.\n",
    "\n",
    "- Votre script doit donc afficher la liste suivante avec la fonction print :\n",
    "\n",
    "[1, 3, 5, 7, 9] "
   ]
  },
  {
   "cell_type": "code",
   "execution_count": 33,
   "id": "88756e9f-d580-483f-bb22-29ad8b661cca",
   "metadata": {},
   "outputs": [
    {
     "name": "stdout",
     "output_type": "stream",
     "text": [
      "[1, 3, 5, 7, 9]\n"
     ]
    }
   ],
   "source": [
    "ma_liste = [1, 2, 3, 4, 5, 6, 7, 8, 9, 10]\n",
    "print(ma_liste[0:-1:2])\n",
    "#V2\n",
    "print(ma_liste[::2])"
   ]
  },
  {
   "cell_type": "markdown",
   "id": "4948f26d-786e-4dc2-8aca-1f00857937d8",
   "metadata": {},
   "source": [
    "print(ma_liste[::2])\n",
    "* Nous pouvons indiquer en effet un troisième nombre entre les crochets et ce nombre indique le pas avec lequel nous voulons récupérer les éléments de notre liste.\n",
    "\n",
    "* Là encore, pas besoin d'indiquer d'indice spécifique pour les deux premiers nombres : en n'indiquant aucun indice, le slicing commencera automatiquement au début de la liste, ira jusqu'à la fin, en prenant seulement un élément sur deux :\n",
    "\n",
    "ma_liste[::2]\n",
    "La syntaxe complète du slicing est donc la suivante :\n",
    "\n",
    "\"ma_liste[indice_de_depart:indice_de_fin:pas]\" \n",
    "\n",
    "Si on veut récupérer les éléments de 4 à 25 avec un pas de 3 on fera donc :\n",
    "\n",
    ">>> ma_liste = range(100)\n",
    ">>> ma_liste[4:26:3]\n",
    "[4, 7, 10, 13, 16, 19, 22, 25]"
   ]
  },
  {
   "cell_type": "markdown",
   "id": "611ffdd8-40c2-4cb9-9386-99104925f699",
   "metadata": {},
   "source": [
    "### 019 - Ajouter plusieurs éléments à une liste\n",
    "Notions abordées : les listes.\n",
    "\n",
    "- Un autre petit exercice assez simple avec les listes, qui utilise une fonction qui n'est pas forcément connue de tous.\n",
    "\n",
    "- Le but de cet exercice est d'**ajouter plusieurs éléments dans une liste en une seule fois !**\n",
    "\n",
    "- Mais attention, vous devez ajouter plusieurs éléments dans la liste originale, et non pas imbriquer une liste dans une autre.\n",
    "\n",
    "- La liste de départ contient les éléments 1, 2 et 3.\n",
    "\n",
    "- La liste finale doit contenir les éléments 1, 2, 3, 4, 5 et 6. Vous devez donc ajouter les éléments 4, 5 et 6 à la liste originale."
   ]
  },
  {
   "cell_type": "code",
   "execution_count": 40,
   "id": "d6a91d28-74f2-4423-9584-9be825beaa22",
   "metadata": {},
   "outputs": [
    {
     "name": "stdout",
     "output_type": "stream",
     "text": [
      "[1, 2, 3, 4, 5, 6]\n"
     ]
    }
   ],
   "source": [
    "ma_liste = [1, 2, 3]\n",
    "ma_liste.extend([4, 5, 6])\n",
    "print(ma_liste)"
   ]
  },
  {
   "cell_type": "markdown",
   "id": "e2ab2070-8394-41a6-a1b9-7ef164f3bfb7",
   "metadata": {},
   "source": [
    "`Extend`:ajouter plusieurs éléments dans une liste en une seule fois, on utilise la fonction extend.\n",
    "\n",
    "l peut y avoir de la confusion dans le fait que vous devez passer une liste à la fonction extend.\n",
    "\n",
    "Ainsi vous ne pouvez pas faire :\n",
    "\n",
    "ma_liste.extend(4, 5, 6) \n",
    "\n",
    "Il faut à la place faire :\n",
    "\n",
    "ma_liste.extend([4, 5, 6]) "
   ]
  },
  {
   "cell_type": "markdown",
   "id": "0fe913e6-7cbe-4d1d-87e7-e838dc7c0766",
   "metadata": {},
   "source": [
    "### 020 - Récupérer les éléments communs à deux listes\n",
    "Notions abordées : **`Les sets`**.\n",
    "\n",
    "- Dans cet exercice, vous allez devoir récupérer les éléments communs aux deux listes.\n",
    "\n",
    "- Dans ce cas-ci, votre liste commune devra contenir les nombres 5, 7, et 10.\n",
    "\n",
    "- Vous pouvez utiliser les sets pour cet exercice.\n",
    "\n",
    "- Pour aller plus loin : Essayez de faire cet exercice sans utiliser les sets."
   ]
  },
  {
   "cell_type": "code",
   "execution_count": 46,
   "id": "d622ff95-7a4f-4aa9-8b65-0be7a29b1027",
   "metadata": {},
   "outputs": [
    {
     "name": "stdout",
     "output_type": "stream",
     "text": [
      "[10, 5, 7]\n"
     ]
    }
   ],
   "source": [
    "sliste_01 = set(liste_01)\n",
    "sliste_02 = set(liste_02)\n",
    " \n",
    "intersect = sliste_01.intersection(sliste_02)\n",
    "print(list(intersect))\n",
    "\n",
    "#V2\n"
   ]
  },
  {
   "cell_type": "markdown",
   "id": "5f577437-6c58-4454-85cd-4149f5e46b5e",
   "metadata": {},
   "source": [
    "**POINTS IMPORTANTS À RETENIR**\n",
    "\n",
    "- Pour convertir une liste en set, on utilise la fonction set.\n",
    "\n",
    "- Pour récupérer les éléments communs à deux set, on utilise la méthode intersection."
   ]
  },
  {
   "cell_type": "markdown",
   "id": "43016d6c-ecf8-4988-aa55-ecc2911d849a",
   "metadata": {},
   "source": [
    "### 021 - Trier une liste de tuples\n",
    "Notions abordées : **`Les listes, Les tuples`**.\n",
    "\n",
    "- Dans cet exercice, l'objectif est de trier une liste qui contient des tuples :\n",
    "\n",
    "liste = [(\"Harry Potter\", 5), (\"Wall-E\", 3), (\"Blade Runner\", 4)] \n",
    "\n",
    "- Comme vous pouvez le voir, la liste contient des tuples qui ont comme premier élément le nom d'un film, et comme deuxième élément leur note sur 5.\n",
    "\n",
    "- Le but de l'exercice est de trier ces tuples en fonction de la note qui leur a été attribuée.\n",
    "\n",
    "- Votre script doit donc retourner la liste suivante :\n",
    "\n",
    "[('Wall-E', 3), ('Blade Runner', 4), ('Harry Potter', 5)] \n",
    "\n"
   ]
  },
  {
   "cell_type": "code",
   "execution_count": 53,
   "id": "705d671d-c6a8-48df-9509-f9d5f03c2e7c",
   "metadata": {},
   "outputs": [
    {
     "name": "stdout",
     "output_type": "stream",
     "text": [
      "[('Harry Potter', 5), ('Blade Runner', 4), ('Wall-E', 3)]\n"
     ]
    }
   ],
   "source": [
    "liste = [(\"Harry Potter\", 5), (\"Wall-E\", 3), (\"Blade Runner\", 4)]\n",
    "\n",
    "# Trier la liste ici\n",
    "liste.sort(key=lambda x: x[1],reverse=True )\n",
    "print(liste)"
   ]
  },
  {
   "cell_type": "markdown",
   "id": "ddb5e1e1-16e2-4009-89f9-78cff7da7152",
   "metadata": {},
   "source": [
    "* la fonction sort accepte un argument dénommé 'key', qui va vous permettre de trier la liste selon des critères spécifiques.\n",
    "\n",
    "* Dans ce cas-ci, nous donnons comme argument au paramètre key une fonction anonyme, qui elle même nous retourne l'élément 1 de la variable qui est passée à x.\n",
    "\n",
    "L* 'élément 1 du tuple correspond à la note du film, la fonction sort va donc trier les éléments de notre liste en fonction de cette élément et donc trier notre liste en fonction de **la note accordée à chaque film.**\n",
    "\n",
    "POINTS IMPORTANTS À RETENIR\n",
    "- La fonction sort accepte un argument 'key', auquel nous pouvons\n",
    "- passer : une fonction `lambda` pour trier une liste selon des critères spécifiques."
   ]
  },
  {
   "cell_type": "markdown",
   "id": "417c63f8-6472-4cc3-9a91-429f3255e8dd",
   "metadata": {},
   "source": [
    "### 022 - Récupérer une valeur dans un dictionnaire\n",
    "Notions abordées : **Les dictionnaires**.\n",
    "\n",
    "- Dans cet exercice, nous allons récupérer la valeur de la clé 'prenom', contenue dans le dictionnaire employes.\n",
    "\n",
    "- Votre script doit donc retourner la chaîne de caractères 'Pierre'.\n",
    "\n",
    "-`Aller plus loin` : construisez votre script de sorte qu’il ne produise aucune erreur si les clés du dictionnaire venaient à être modifiées.\n",
    "\n"
   ]
  },
  {
   "cell_type": "code",
   "execution_count": 86,
   "id": "2693466f-4f85-44ff-82fb-b8fe472c0738",
   "metadata": {},
   "outputs": [
    {
     "name": "stdout",
     "output_type": "stream",
     "text": [
      "Pierre\n",
      "Pierre\n",
      "Pierre\n"
     ]
    }
   ],
   "source": [
    "employes = {\"01\": {\"identite\": {\"prenom\": \"Pierre\", \"nom\": \"Dupont\"}}}\n",
    "#V1\n",
    "print(employes[\"01\"][\"identite\"][\"prenom\"])\n",
    "print(employes.get(\"01\", {}).get(\"identite\", {}).get(\"prenom\", \"valeur inconnue\"))\n",
    "#Vgpt\n",
    "def get_nested(d, keys, default=None):\n",
    "    for k in keys:\n",
    "        d = d.get(k, {})\n",
    "    return d or default\n",
    "\n",
    "employes = {\"01\": {\"identite\": {\"prenom\": \"Pierre\", \"nom\": \"Dupont\"}}}\n",
    "\n",
    "prenom = get_nested(employes, [\"01\", \"identite\", \"prenom\"], \"Inconnu\")\n",
    "print(prenom)\n"
   ]
  },
  {
   "cell_type": "markdown",
   "id": "93835506-cf1a-4841-bbb6-6f10b0c1b2a0",
   "metadata": {},
   "source": [
    "- nous utilisons à la place la méthode **`get`**, qui va par défaut nous retourner **None** si la clé n'existe pas.\n",
    "\n",
    "- Mais encore mieux, il est possible de spécifier un élément par défaut à retourner, autre que None, si la clé n'existe pas.\n",
    "\n",
    "- C'est ce principe que nous mettons en place ici. Nous récupérons la première clé et si celle-ci n'existe pas, nous retournons un dictionnaire vide :\n",
    "\n",
    "`employes.get(\"01\", {})` \n",
    "\n",
    "- Ainsi, nous pouvons chaîner plusieurs get à la suite, sans risquer de faire planter le script. En effet, si nous ne retournions par de valeur par défaut et que la clé n'existe pas dans le dictionnaire, la 2e méthode get ne fonctionnerait pas car elle s'exécuterait sur None.\n",
    "\n",
    "Donc si la première clé n'est pas trouvée, le get va agir sur un dictionnaire vide et ainsi de suite, évitant tout risque d'erreur."
   ]
  },
  {
   "cell_type": "markdown",
   "id": "14579578-574f-4656-a8a1-0e43b4bbe8aa",
   "metadata": {},
   "source": [
    "### 023 - Additionner les valeurs d'un dictionnaire\n",
    "Notions abordées : **`Les dictionnaires`**.\n",
    "\n",
    "- On continue avec les dictionnaires ! Dans cet exercice, vous devez additionner toutes les valeurs du dictionnaire ensemble.\n",
    "\n",
    "- Votre script doit donc retourner le nombre 8700.\n",
    "\n",
    "- `Aller plus loin` : Essayez de faire tenir votre script en une seule ligne :)\n",
    "\n"
   ]
  },
  {
   "cell_type": "code",
   "execution_count": 60,
   "id": "6d465454-d764-4a36-9fae-c34389ff9392",
   "metadata": {},
   "outputs": [
    {
     "name": "stdout",
     "output_type": "stream",
     "text": [
      "8700\n"
     ]
    }
   ],
   "source": [
    "employes = {\"Pierre\": 2500, \"Marie\": 5000, \"Julien\": 1200}\n",
    "print(sum(employes.values()))"
   ]
  },
  {
   "cell_type": "markdown",
   "id": "737208ba-5a12-4f2e-a803-ba43dee59d76",
   "metadata": {},
   "source": [
    "POINTS IMPORTANTS À RETENIR\n",
    "* Pour récupérer toutes les valeurs d'un dictionnaire, on utilise la méthode values.\n",
    "* Pour faire la somme de plusieurs nombres, on utilise la fonction sum."
   ]
  },
  {
   "cell_type": "markdown",
   "id": "9c24f889-85e1-4d3a-a886-e9d09f3a7ea4",
   "metadata": {},
   "source": [
    "### 024 - Trouver l'erreur de module\n",
    "Notions abordées : **`Les modules.`**\n",
    "\n",
    "- Nous passons maintenant avec un exercice simple sur les modules.\n",
    "\n",
    "- Le script actuel ne fonctionne pas et vous retournera une erreur. À vous de trouver où se situe l'erreur afin que le script fonctionne.\n",
    "\n",
    "- Votre script doit au final retourner un nombre aléatoire compris entre 0 et 5."
   ]
  },
  {
   "cell_type": "code",
   "execution_count": 61,
   "id": "93096ec6-9c28-4d9e-b613-a445b30d17a0",
   "metadata": {},
   "outputs": [
    {
     "name": "stdout",
     "output_type": "stream",
     "text": [
      "2\n"
     ]
    }
   ],
   "source": [
    "import random\n",
    "\n",
    "nombre_aleatoire = random.randint(0, 5)\n",
    "print(nombre_aleatoire)"
   ]
  },
  {
   "cell_type": "markdown",
   "id": "424e85c0-3455-42bf-a31b-cc3052314e25",
   "metadata": {},
   "source": [
    "POINTS IMPORTANTS À RETENIR\n",
    "* Pour utiliser une fonction à l'intérieur d'un module, il ne faut pas oublier de préfixer la fonction par le nom du module.\n",
    "* Pour importer une fonction à l'intérieur d'un module directement dans l'espace global de notre script, on peut utiliser la syntaxe from module import fonction ."
   ]
  },
  {
   "cell_type": "markdown",
   "id": "bf7bf3d5-416d-44c4-bfbc-cc8922af54c0",
   "metadata": {},
   "source": [
    "### 025 - Trouver l'erreur de syntaxe\n",
    "Notions abordées : **`Syntaxe`**.\n",
    "\n",
    "- On continue avec les erreurs et la syntaxe. Le script suivant ne fonctionne pas, à vous de trouver pourquoi et de le corriger.\n",
    "\n",
    "- Votre script doit retourner la liste [2, 6, 12, 20, 42, 56, 90] ."
   ]
  },
  {
   "cell_type": "code",
   "execution_count": 67,
   "id": "e4896997-b5f3-4fe2-844f-5f9c88f6f445",
   "metadata": {},
   "outputs": [
    {
     "name": "stdout",
     "output_type": "stream",
     "text": [
      "[2, 6, 12, 20, 42, 56, 90]\n"
     ]
    }
   ],
   "source": [
    "liste = [1, 1, 4, 3, 3, 2, 6, 7, 7, 9, 2]\n",
    "\n",
    "resultat = [i*(i+1%(i*5)) for i in sorted(list(set(liste)))]\n",
    "print(resultat)"
   ]
  },
  {
   "cell_type": "markdown",
   "id": "5c558adb-8de0-4ec5-abb1-7948282479f7",
   "metadata": {},
   "source": [
    "- Une bonne façon de vérifier si vous n'avez pas oublié une parenthèse ou un crochet est de compter dans un sens le nombre de parenthèse / crochet ouvrant, et ensuite de compter dans l'autre sens si vous avez bien le même nombre de parenthèse / crochet fermant."
   ]
  },
  {
   "cell_type": "markdown",
   "id": "bbfbafd7-ac1d-4544-8480-d4282a58f184",
   "metadata": {},
   "source": [
    "### 026 - Importer une variable d'un autre module\n",
    "Notions abordées : **`les modules, les variables.`**\n",
    "\n",
    "- Dans cet exercice, nous allons importer une variable d'un autre module dans notre script principal.\n",
    "\n",
    "- Dans le fichier constants.py se trouve une variable nom qui contient le mot 'PSTB'.\n",
    "\n",
    "- Le but de l'exercice est d'importer cette **variable** dans le fichier exercice.py pour l'afficher grâce à la fonction `print`."
   ]
  },
  {
   "cell_type": "code",
   "execution_count": null,
   "id": "f26283b5-3333-46ca-a68d-e5c912668d7c",
   "metadata": {
    "scrolled": true
   },
   "outputs": [],
   "source": [
    "# exercice.py\n",
    "from constants import nom\n",
    "print(nom)"
   ]
  },
  {
   "cell_type": "markdown",
   "id": "f04273ad-4aef-4479-beba-730a4e8ab6c3",
   "metadata": {},
   "source": [
    "**EXPLICATION**\n",
    "\n",
    "* Rien de plus simple dans cet exercice ! Il suffisait d'importer le module constants et de faire un print de la variable 'nom' contenue à l'intérieur de ce module. Un exercice simple, mais qui nécessite de bien comprendre le fonctionnement des modules et les possibilités qu'ils offrent.\n",
    "\n",
    "* **POINTS IMPORTANTS À RETENIR**\n",
    "\n",
    "* Pour importer une variable d'un module, il suffit d'importer le module dans lequel la variable est contenue."
   ]
  },
  {
   "cell_type": "markdown",
   "id": "6e3e56d8-cd5a-412e-8162-fdb9af001ce1",
   "metadata": {},
   "source": [
    "### 027 - Afficher le chemin du script Python en cours"
   ]
  },
  {
   "cell_type": "code",
   "execution_count": null,
   "id": "2d01890d-f000-4c8c-9f27-df04402815a1",
   "metadata": {},
   "outputs": [],
   "source": [
    "import os\n",
    "fichier_courant = __file__\n",
    "\n",
    "dossier_parent = os.path.dirname(fichier_courant)\n",
    "dossier_images = os.path.join(dossier_parent, \"images\")"
   ]
  },
  {
   "cell_type": "markdown",
   "id": "421ae40c-4810-479e-bdf0-7a4e574f533d",
   "metadata": {},
   "source": [
    "### 028 - Récupérer l'extension d'un fichier\n",
    "Notions abordées : **`Le module os`**.\n",
    "\n",
    "- Le but de cet exercice est de récupérer l'extension d'un fichier à l'aide du module os.\n",
    "\n",
    "- Dans ce cas-ci, vous devez récupérer l'extension du fichier python.exe.\n",
    "\n",
    "- Votre script doit retourner l'extension sans le point. Vous devez donc récupérer la chaîne de caractères 'exe'."
   ]
  },
  {
   "cell_type": "code",
   "execution_count": 69,
   "id": "0caacb53-5791-447f-833b-1167877c7d27",
   "metadata": {},
   "outputs": [
    {
     "name": "stdout",
     "output_type": "stream",
     "text": [
      "exe\n"
     ]
    }
   ],
   "source": [
    "import os\n",
    "\n",
    "fichier = \"C:/Python36/python.exe\"\n",
    "ext = os.path.splitext(fichier)[1] #1 pour le second elt de la list\n",
    "ext = ext.strip(\".\")\n",
    "print(ext)"
   ]
  },
  {
   "cell_type": "markdown",
   "id": "e286f8ca-2caf-4892-92c0-a5b9290c1956",
   "metadata": {},
   "source": [
    "- le module `os`, nous pouvons importer le `module path`, qui donne accès à tout un tas de fonctions permettant de manipuler des chemins.\n",
    "\n",
    "- La fonction `splitext` nous permet de séparer un chemin de son extension. Cette fonction nous retourne donc un `tuple`, qui contient le chemin sans l'extension en premier élément, et l'extension seule en deuxième élément\n",
    "\n",
    "- POINTS IMPORTANTS À RETENIR\n",
    "\n",
    "* Pour manipuler des chemins de dossier, on utilise le module `os.path`.\n",
    "\n",
    "* Pour séparer un chemin de son extension, on utilise la fonction `os.path.splitext`."
   ]
  },
  {
   "cell_type": "markdown",
   "id": "0676f941-f8c6-4d41-8e33-ca529390ab7e",
   "metadata": {},
   "source": [
    "### 029 - Accéder à une variable d'environnement"
   ]
  },
  {
   "cell_type": "code",
   "execution_count": 70,
   "id": "719dba00-1c42-4470-906c-4a5e4e23ed39",
   "metadata": {},
   "outputs": [
    {
     "name": "stdout",
     "output_type": "stream",
     "text": [
      "None\n"
     ]
    }
   ],
   "source": [
    "import os\n",
    "env_var = os.environ.get(\"Home\")\n",
    "print(env_var)"
   ]
  },
  {
   "cell_type": "markdown",
   "id": "6c158888-3187-45bb-ba70-999800385e26",
   "metadata": {},
   "source": [
    "### 030 - Calculer le temps d'exécution d'un script"
   ]
  },
  {
   "cell_type": "code",
   "execution_count": 74,
   "id": "c1e25418-05fe-42b3-a9f4-2dd970e7a855",
   "metadata": {},
   "outputs": [
    {
     "name": "stdout",
     "output_type": "stream",
     "text": [
      "Temps d'execution :0.9816937446594238s\n"
     ]
    }
   ],
   "source": [
    "from time import time\n",
    "a = time()\n",
    "_= [i*2 for i in range(9999999)]\n",
    "print(f\"Temps d'execution :{time() - a}s\")"
   ]
  },
  {
   "cell_type": "markdown",
   "id": "7c64304c-d97e-4c44-a1c6-bbbb682e3df7",
   "metadata": {},
   "source": [
    "### 031 - Trouver l'erreur : variable égale à 0\n",
    "Notions abordées : les structures conditionnelles, les nombres.\n",
    "\n",
    "- Encore un exercice avec une syntaxe à corriger.\n",
    "\n",
    "- Le script ci-dessous n'affichera pas la valeur de a. \n",
    "\n",
    "- Pourtant, la variable a n'est pas vide et contient bien un nombre.\n",
    "\n",
    "- Modifiez la condition pour que le script affiche la valeur de la variable `a`."
   ]
  },
  {
   "cell_type": "code",
   "execution_count": 76,
   "id": "44eeb746-8c82-4419-a1b3-cd282a4cc104",
   "metadata": {},
   "outputs": [
    {
     "name": "stdout",
     "output_type": "stream",
     "text": [
      "0\n"
     ]
    }
   ],
   "source": [
    "a = 0\n",
    "if a is not None:\n",
    "    print(a)\n"
   ]
  },
  {
   "cell_type": "markdown",
   "id": "be5a2033-1fa1-4d28-b68e-b68fcf115a45",
   "metadata": {},
   "source": [
    "POINTS IMPORTANTS À RETENIR\n",
    "\n",
    "* Le nombre 0 est équivalant au boolean False.\n",
    "\n",
    "* Pour vérifier explicitement qu'une variable n'est pas égale à None, il vaut mieux utiliser la syntaxe if variable is not None."
   ]
  },
  {
   "cell_type": "markdown",
   "id": "996a2c60-eee1-47b1-86df-2803987891ab",
   "metadata": {},
   "source": [
    "### 032 - Formater une chaîne de caractères\n",
    "Notions abordées : les chaînes de caractères.\n",
    "\n",
    "* Le but de cet exercice est d'afficher dans le print le nom et le prenom contenu dans les variables respectives.\n",
    "\n",
    "* Votre script doit donc afficher : 'Bonjour je m'appelle Pierre Dupont'.\n",
    "\n"
   ]
  },
  {
   "cell_type": "code",
   "execution_count": 78,
   "id": "dfcb31e0-e171-44d5-a844-f5264c37696e",
   "metadata": {},
   "outputs": [
    {
     "name": "stdout",
     "output_type": "stream",
     "text": [
      "Bonjour je m'appelle Pierre Dupont\n",
      "Bonjour je m'appelle Pierre Dupont\n"
     ]
    }
   ],
   "source": [
    "prenom = \"Pierre\"\n",
    "nom = \"Dupont\"\n",
    "print(\"Bonjour je m'appelle\", prenom+str(' ')+nom)\n",
    "print(f\"Bonjour je m'appelle {prenom} {nom}\")\n"
   ]
  },
  {
   "cell_type": "markdown",
   "id": "1cb57a77-7a3f-4013-b570-2540aedff752",
   "metadata": {},
   "source": [
    "- Il est plus facile d'utiliser les f-string pour insérer des éléments à l'intérieur d'une chaîne de caractères.\n",
    "\n",
    "\n",
    "- Pour définir une chaîne de caractères comme une f-string, il suffit de précéder le premier guillemet de la lettre f :\n",
    "\n",
    "- f\"Bonjour je m'appelle\"\n",
    "On peut ensuite insérer des variables à l'intérieur de la chaîne grâce aux accolades :\n",
    "\n",
    "`f\"Bonjour je m'appelle {prenom} {nom}\"`\n",
    "\n",
    "**POINTS IMPORTANTS À RETENIR**\n",
    "\n",
    "- Pour concaténer des chaînes de caractères, on peut utiliser une `f-string`, pour insérer directement à l'intérieur de la chaîne des variables grâce aux accolades."
   ]
  },
  {
   "cell_type": "markdown",
   "id": "3ae25dc0-733f-4c88-af9e-a27f77ff8ddc",
   "metadata": {},
   "source": [
    "### 033 - Inverser les lettres d'un mot\n",
    "Notions abordées : `les chaînes de caractères`.\n",
    "\n",
    "- Dans cet exercice, vous allez devoir inverser l'ordre des lettres d'un mot.\n",
    "\n",
    "- Dans cet exemple, le mot est 'Udemy' votre script doit donc retourner la chaîne de caractère 'Ymedu'. \n",
    "\n",
    "- Pour valider l'exercice, il faut que la première lettre de votre chaîne de caractères résultat soit en majuscule ('Ymedu' et non 'ymedU').\n",
    "\n",
    "`Aller plus loin` : Faites tenir votre script en une seule ligne.\n",
    "\n",
    "\n",
    "\n"
   ]
  },
  {
   "cell_type": "code",
   "execution_count": 80,
   "id": "9d6a7d29-6ab0-4d9c-b1c6-59da83b39efb",
   "metadata": {},
   "outputs": [
    {
     "name": "stdout",
     "output_type": "stream",
     "text": [
      "Ymedu\n",
      "Ymedu\n"
     ]
    }
   ],
   "source": [
    "mot = \"Udemy\"\n",
    "resultat = []\n",
    " \n",
    "for lettre in reversed(mot):\n",
    "    resultat.append(lettre)\n",
    " \n",
    "resultat_formate = \"\".join(resultat)\n",
    "print(resultat_formate.capitalize())\n",
    "\n",
    "print(\"Udemy\"[::-1].capitalize())"
   ]
  },
  {
   "cell_type": "markdown",
   "id": "d361e1b2-2813-4032-8628-a6c4ccb33569",
   "metadata": {},
   "source": [
    "nous utilisons la fonction `reversed` :\n",
    "\n",
    ">>> mot = \"Udemy\"\n",
    ">>> print(reversed(mot))\n",
    "<reversed object at 0x10386b278>\n",
    "Cette fonction nous retourne un object 'reversed', qui est en fait un itérateur. Nous pouvons donc passer à travers cet itérateur avec une boucle for et ajouter chaque lettre dans une liste :\n",
    "\n",
    "for lettre in reversed(mot):\n",
    "    resultat.append(lettre)\n",
    "\n",
    "- Nous nous retrouvons ainsi avec une liste contenant chaque lettre dans l'ordre inverse.\n",
    "\n",
    "- Pour terminer, nous pouvons utiliser la fonction join pour joindre les éléments de la liste ensemble et la fonction capitalize pour mettre une majuscule au début du mot :\n",
    ">>\n",
    "    resultat_formate = \"\".join(resultat)\n",
    "    print(resultat_formate.capitalize())\n",
    "\n",
    "**POINTS IMPORTANTS À RETENIR*\n",
    "- Pour inverser une chaîne de caractère, on peut utiliser le slicing [::-1] ou la fonction reversed.\n",
    "- Pour joindre les éléments d'une liste ensemble, on utilise la fonction join.\n",
    "- Pour mettre une majuscule sur la première lettre d'un mot, on utilise la fonction capitalize."
   ]
  },
  {
   "cell_type": "markdown",
   "id": "ebd42827-2841-460c-8c9e-25e26e3408fe",
   "metadata": {},
   "source": [
    "### 034 - Mélanger les lettres d'un mot\n",
    "Notions abordées : `Le module random`\n",
    "\n",
    "- Dans cet exercice, nous allons mélanger les lettres d'un mot grâce au module random.\n",
    "\n",
    "- Le mot résultant devra commencer par une majuscule. Dans cet exercice nous allons mélanger le mot 'Bonjour'.\n",
    "\n",
    "- Votre script devra mélanger les lettres de ce mot pour donner par exemple : 'Ojnoubr'."
   ]
  },
  {
   "cell_type": "code",
   "execution_count": 83,
   "id": "ef86ad23-fa58-4a53-96ed-2b21c4cbb850",
   "metadata": {},
   "outputs": [
    {
     "name": "stdout",
     "output_type": "stream",
     "text": [
      "Jrboonu\n"
     ]
    }
   ],
   "source": [
    "import random\n",
    "mot = \"Bonjour\"\n",
    "mot = list(mot) \n",
    " \n",
    "random.shuffle(mot)\n",
    " \n",
    "mot_random = \"\".join(mot).capitalize()\n",
    "print(mot_random)"
   ]
  },
  {
   "cell_type": "markdown",
   "id": "254f3b22-b3c4-4fa5-8f34-61517b927dca",
   "metadata": {},
   "source": [
    "1. commencer par convertir notre mot en liste avec la fonction list :\n",
    "`mot = list(mot)`\n",
    "2. Nous utilisons ensuite la fonction shuffle du module random pour mélanger la liste :\n",
    ">random.shuffle(mot)\n",
    "\n",
    "3. Il ne reste plus qu'à rassembler tous les éléments de la liste avec la fonction join et de remettre la majuscule à la bonne place avec la fonction capitalize :\n",
    "`mot_random = \"\".join(mot).capitalize()`\n",
    "\n",
    "**POINTS IMPORTANTS À RETENIR**\n",
    "* Pour mélanger les éléments d'une liste, on utilise la fonction shuffle du module random.\n",
    "* Pour convertir une chaîne de caractères en liste, on utilise la fonction list."
   ]
  },
  {
   "cell_type": "markdown",
   "id": "ba62e352-4b8c-493c-8874-c14fe65c7aa9",
   "metadata": {},
   "source": [
    "### 035 - Tronquer le nombre de décimales\n",
    "Notions abordées : **`les f-string`**.\n",
    "\n",
    "- Dans cet exercice, nous voulons tronquer le nombre de décimales contenues après la virgule dans la variable nombre, par le nombre contenu dans la variable decimales.\n",
    "\n",
    "- Votre script doit donc afficher : 'Nombre tronqué: 2938.489'.\n",
    "\n",
    "- Vous pouvez réaliser cette opération avec les f-string ou la méthode format."
   ]
  },
  {
   "cell_type": "code",
   "execution_count": 84,
   "id": "2a2edee9-34e7-4487-ad7a-77cee7b2c4f9",
   "metadata": {},
   "outputs": [
    {
     "name": "stdout",
     "output_type": "stream",
     "text": [
      "Nombre tronqué: 2938.489\n",
      "Nombre tronqué: 2938.489\n"
     ]
    }
   ],
   "source": [
    "nombre = 2938.48872\n",
    "decimales = 3\n",
    "\n",
    "print(f\"Nombre tronqué: {nombre:.{decimales}f}\")\n",
    " \n",
    "# Avec la méthode format\n",
    "print(\"Nombre tronqué: {nombre:.{decimales}f}\".format(nombre=nombre, decimales=decimales))"
   ]
  },
  {
   "cell_type": "code",
   "execution_count": 85,
   "id": "ddac9da7-7794-4349-b1b5-2b7b5ef1aa62",
   "metadata": {},
   "outputs": [
    {
     "name": "stdout",
     "output_type": "stream",
     "text": [
      "Nombre tronqué: 2938.489\n"
     ]
    }
   ],
   "source": [
    "nombre = 2938.48872\n",
    "decimales = 3\n",
    "#La fonction round() \n",
    "solution = round(nombre, decimales)\n",
    " \n",
    "print(f\"Nombre tronqué: {solution}\")"
   ]
  },
  {
   "cell_type": "markdown",
   "id": "80babaaf-d6d7-4bdb-b026-453f12a48b61",
   "metadata": {},
   "source": [
    "Explorer les possibilités des **f-string** qui cachent de nombreuses fonctionnalités assez avancées.\n",
    "\n",
    "En effet, il est possible d'utiliser la syntaxe suivante pour tronquer le nombre de décimales après la virgule d'un nombre :\n",
    "`{nombre:.3f} `\n",
    "\n",
    "nombre correspond ici à la variable définit au début du script.\n",
    "\n",
    "- Nous avons ensuite deux points, un point et un nombre qui détermine le nombre de décimales après la virgule que l'on souhaite conserver (ici 3) et pour finir la lettre f.\n",
    "\n",
    "- Je l'avoue, ce n'est pas la syntaxe la plus facile à retenir, mais c'est vraiment très efficace pour pouvoir rapidement afficher un nombre tronqué dans une chaîne de caractères.\n",
    "\n",
    "- **POINTS IMPORTANTS À RETENIR**\n",
    "\n",
    "On peut tronquer directement un nombre pour n'afficher qu'une certaine partie des décimales après la virgule grâce aux f-string et la syntaxe {nombre:.3f}."
   ]
  },
  {
   "cell_type": "code",
   "execution_count": null,
   "id": "09772384-e257-4404-8389-ec3fac8b5fa3",
   "metadata": {},
   "outputs": [],
   "source": []
  }
 ],
 "metadata": {
  "kernelspec": {
   "display_name": "Python 3 (ipykernel)",
   "language": "python",
   "name": "python3"
  },
  "language_info": {
   "codemirror_mode": {
    "name": "ipython",
    "version": 3
   },
   "file_extension": ".py",
   "mimetype": "text/x-python",
   "name": "python",
   "nbconvert_exporter": "python",
   "pygments_lexer": "ipython3",
   "version": "3.12.3"
  }
 },
 "nbformat": 4,
 "nbformat_minor": 5
}
