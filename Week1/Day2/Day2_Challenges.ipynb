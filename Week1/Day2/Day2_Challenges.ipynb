{
 "cells": [
  {
   "cell_type": "markdown",
   "id": "8000942a-4ba0-4a96-818b-65a8cec51e7a",
   "metadata": {},
   "source": [
    "### Dico\n",
    "- Access the value of key history\n",
    "\n"
   ]
  },
  {
   "cell_type": "code",
   "execution_count": 5,
   "id": "61650cc2-6af7-4d33-a9b3-772faf907955",
   "metadata": {},
   "outputs": [],
   "source": [
    "sample_dict = { \n",
    "   \"class\":{ \n",
    "      \"student\":{ \n",
    "         \"name\":\"Mike\",\n",
    "         \"marks\":{ \n",
    "            \"physics\":70,\n",
    "            \"history\":80\n",
    "         }\n",
    "      }\n",
    "   }\n",
    "}\n"
   ]
  },
  {
   "cell_type": "code",
   "execution_count": 6,
   "id": "6aa58530-c936-4bea-9c89-43ca9cf57d0f",
   "metadata": {},
   "outputs": [],
   "source": [
    "def get_nested(d, keys, default=None):\n",
    "    for k in keys:\n",
    "        d = d.get(k, {})\n",
    "    return d or default"
   ]
  },
  {
   "cell_type": "code",
   "execution_count": 9,
   "id": "73028180-1fd9-49c1-876e-2a9e68437c8e",
   "metadata": {},
   "outputs": [
    {
     "name": "stdout",
     "output_type": "stream",
     "text": [
      "80\n"
     ]
    }
   ],
   "source": [
    "history_value = get_nested(sample_dict, [\"class\", \"student\", \"marks\", \"history\"])\n",
    "print(history_value)"
   ]
  },
  {
   "cell_type": "markdown",
   "id": "af5bbcd6-b20f-4efd-a142-86a2806501db",
   "metadata": {},
   "source": [
    "### Sol1 : En compréhension de dictionnaire (reconstruction)"
   ]
  },
  {
   "cell_type": "code",
   "execution_count": 58,
   "id": "fe881ef9-7d07-4312-90fd-7a9bec585b00",
   "metadata": {},
   "outputs": [],
   "source": [
    "sample_dict = {\n",
    "  \"name\": \"Kelly\",\n",
    "  \"age\": 25,\n",
    "  \"salary\": 8000,\n",
    "  \"city\": \"New york\"\n",
    "}\n"
   ]
  },
  {
   "cell_type": "code",
   "execution_count": 59,
   "id": "4b08cec4-3c0f-4f9d-821d-e2723aa866ea",
   "metadata": {},
   "outputs": [
    {
     "name": "stdout",
     "output_type": "stream",
     "text": [
      "{'age': 25, 'city': 'New york'}\n"
     ]
    }
   ],
   "source": [
    "keys_to_remove = [\"name\", \"salary\"]\n",
    "#reconstruire un notre dico sans les keys à enleve\n",
    "new_dico = {k:v for k,v in sample_dict.items() if k not in keys_to_remove}\n",
    "\n",
    "print(new_dico)"
   ]
  },
  {
   "cell_type": "markdown",
   "id": "3355f686-2f47-45d5-9f22-6bdf380112f9",
   "metadata": {},
   "source": [
    "* On reconstruit un nouveau dictionnaire sans les clés à supprimer.\n",
    "    - dict.items() retourne les paires clé/valeur.\n",
    "\n",
    "    - Le if k not in keys_to_remove filtre les clés à garder.\n",
    "\n",
    "    - C’est une approche fonctionnelle et propre, souvent préférée."
   ]
  },
  {
   "cell_type": "markdown",
   "id": "6be70335-a234-49ea-a8d7-e976d4b23c9b",
   "metadata": {},
   "source": [
    "### Sol2"
   ]
  },
  {
   "cell_type": "code",
   "execution_count": 60,
   "id": "ef319141-a2df-4d07-b23d-e02fa2f18264",
   "metadata": {},
   "outputs": [
    {
     "name": "stdout",
     "output_type": "stream",
     "text": [
      "{'age': 25, 'city': 'New york'}\n"
     ]
    }
   ],
   "source": [
    "for key in keys_to_remove:\n",
    "    del sample_dict[key]\n",
    "print(sample_dict)"
   ]
  },
  {
   "cell_type": "markdown",
   "id": "c41e7f91-c251-4c58-9aac-265f87436fdc",
   "metadata": {},
   "source": [
    "#### Rq: \n",
    "* Cette méthode lève une erreur KeyError si une des clés n’existe pas"
   ]
  },
  {
   "cell_type": "markdown",
   "id": "569eec0e-003b-4a79-b6d0-ad67a57a0baa",
   "metadata": {},
   "source": [
    "### Sol3"
   ]
  },
  {
   "cell_type": "code",
   "execution_count": 62,
   "id": "5e5e8293-7885-43b8-973c-4561bd01f22c",
   "metadata": {},
   "outputs": [
    {
     "name": "stdout",
     "output_type": "stream",
     "text": [
      "{'age': 25, 'city': 'New york'}\n"
     ]
    }
   ],
   "source": [
    "sample_dict = {\n",
    "  \"name\": \"Kelly\",\n",
    "  \"age\": 25,\n",
    "  \"salary\": 8000,\n",
    "  \"city\": \"New york\"\n",
    "}\n",
    "keys_to_remove = [\"name\", \"salary\"]\n",
    "for key in keys_to_remove:\n",
    "    sample_dict.pop(key)\n",
    "\n",
    "print(sample_dict)"
   ]
  },
  {
   "cell_type": "markdown",
   "id": "55b1df0d-0278-4371-b1a4-b01af3f4acbd",
   "metadata": {},
   "source": [
    "### Loops and Dico"
   ]
  },
  {
   "cell_type": "markdown",
   "id": "09aea852-2b2b-43c2-8993-a88734b69e79",
   "metadata": {},
   "source": [
    "* Implement a loop that asks for user input to add dictionary entries until 'quit' is entered. Display the final dictionary."
   ]
  },
  {
   "cell_type": "code",
   "execution_count": 63,
   "id": "e666b937-e632-4360-a0b8-175ba67ef905",
   "metadata": {},
   "outputs": [
    {
     "name": "stdin",
     "output_type": "stream",
     "text": [
      "Enter key (or 'quit' to stop):  age\n",
      "Enter value:  34\n",
      "Enter key (or 'quit' to stop):  pays\n",
      "Enter value:  France\n",
      "Enter key (or 'quit' to stop):  present\n",
      "Enter value:  True\n",
      "Enter key (or 'quit' to stop):  quit\n"
     ]
    },
    {
     "name": "stdout",
     "output_type": "stream",
     "text": [
      "{'age': '34', 'pays': 'France', 'present': 'True'}\n"
     ]
    }
   ],
   "source": [
    "#initialisation du dico (exterieur de la boucle\n",
    "dico ={}\n",
    "while True: #condition du while\n",
    "    key = input(\"Enter key (or 'quit' to stop): \")\n",
    "    if key.lower() =='quit':\n",
    "        break\n",
    "    value = input(\"Enter value: \")\n",
    "    dico[key]=value\n",
    "\n",
    "\n",
    "print(dico)"
   ]
  },
  {
   "cell_type": "markdown",
   "id": "7995e822-b674-4ea4-b650-1777d2812272",
   "metadata": {},
   "source": [
    "### Fonctions Exercices"
   ]
  },
  {
   "cell_type": "markdown",
   "id": "0ef9681b-d978-4794-a93d-a91b0f55dc6b",
   "metadata": {},
   "source": [
    "* Write a function calculation() such that:\n",
    "    * it can accept two variables and calculate the addition and subtraction of it.\n",
    "    *  And also it must return both addition and subtraction in a single return call"
   ]
  },
  {
   "cell_type": "code",
   "execution_count": 24,
   "id": "b6724c61-50a7-4441-9671-19cbfd1d3f88",
   "metadata": {},
   "outputs": [
    {
     "name": "stdout",
     "output_type": "stream",
     "text": [
      "7\n",
      "12\n"
     ]
    }
   ],
   "source": [
    "def calculation(a,b):\n",
    "    add = a+b\n",
    "    prod = a*b\n",
    "    return (add, prod)\n",
    "\n",
    "addition, produit = calculation(a= 4, b=3)\n",
    "print(addition)\n",
    "print(produit)"
   ]
  },
  {
   "cell_type": "markdown",
   "id": "01a644c9-0c9a-420c-9e90-3de0178199dc",
   "metadata": {},
   "source": [
    "### Lambda, Map, Reduce & Filter Functions"
   ]
  },
  {
   "cell_type": "markdown",
   "id": "3bc40e84-39a6-4ef4-ae30-624eb0b9ce62",
   "metadata": {},
   "source": [
    "\n",
    "* Using map and filter, try to say hello to everyone who's name is less than or equal to 4 letters"
   ]
  },
  {
   "cell_type": "code",
   "execution_count": 32,
   "id": "b66ab7e3-61b3-489a-8cdd-fbd8ddf94b3c",
   "metadata": {},
   "outputs": [
    {
     "name": "stdout",
     "output_type": "stream",
     "text": [
      "Hello Rick!\n",
      "Hello Beth!\n"
     ]
    }
   ],
   "source": [
    "people = [\"Rick\", \"Morty\", \"Beth\", \"Jerry\", \"Snowball\"]\n",
    "\n",
    "short = filter(lambda s: len(s)<= 4, people)\n",
    "# Étape 2 : dire bonjour à chacun\n",
    "salutations= map(lambda s: f\"Hello {s}!\", short)\n",
    "\n",
    "# Étape 3 : afficher le résultat\n",
    "for cc in salutations:\n",
    "    print(cc)"
   ]
  },
  {
   "cell_type": "code",
   "execution_count": null,
   "id": "033dfe55-33ef-4d1a-b9ca-03590ec8942c",
   "metadata": {},
   "outputs": [],
   "source": [
    "people = [\"Rick\", \"Morty\", \"Beth\", \"Jerry\", \"Snowball\"]\n",
    "\n",
    "# Étape 1 : filtrer les noms de 4 lettres ou moins\n",
    "short_names = filter(lambda name: len(name) <= 4, people)\n",
    "\n",
    "# Étape 2 : dire bonjour à chacun\n",
    "greetings = map(lambda name: f\"Hello {name}!\", short_names)\n",
    "\n",
    "# Étape 3 : afficher le résultat\n",
    "for greet in greetings:\n",
    "    print(greet)\n"
   ]
  },
  {
   "cell_type": "markdown",
   "id": "b216cb21-48cf-4671-9033-e080d6adc165",
   "metadata": {},
   "source": [
    "### Exo XP"
   ]
  },
  {
   "cell_type": "markdown",
   "id": "f11b29b9-30a3-4646-93f7-46c8e9d0c002",
   "metadata": {},
   "source": [
    "* Exercise 1: Converting Lists into Dictionaries"
   ]
  },
  {
   "cell_type": "code",
   "execution_count": 33,
   "id": "aeb68728-3358-485b-bf1b-2ab298b03209",
   "metadata": {},
   "outputs": [
    {
     "name": "stdout",
     "output_type": "stream",
     "text": [
      "{'Ten': 10, 'Twenty': 20, 'Thirty': 30}\n"
     ]
    }
   ],
   "source": [
    "keys = ['Ten', 'Twenty', 'Thirty']\n",
    "values = [10, 20, 30]\n",
    "dico={}\n",
    "dico =dict(zip(keys, values))\n",
    "print(dico)"
   ]
  },
  {
   "cell_type": "markdown",
   "id": "51c33c82-2b03-4377-8db6-82d4ab99c710",
   "metadata": {},
   "source": [
    "* Exo 2"
   ]
  },
  {
   "cell_type": "markdown",
   "id": "53c29df5-6466-4702-bef9-58b457ecd041",
   "metadata": {},
   "source": [
    "* Write a program that calculates the total cost of movie tickets for a family based on their ages.\n",
    "* Family members’ ages are stored in a dictionary.\n",
    "* The ticket pricing rules are as follows:\n",
    " * Under 3 years old: Free\n",
    " * 3 to 12 years old: $10\n",
    " * Over 12 years old: $15"
   ]
  },
  {
   "cell_type": "code",
   "execution_count": 36,
   "id": "74029ca3-edc8-4efc-8bd2-804acb2af5f3",
   "metadata": {},
   "outputs": [
    {
     "name": "stdout",
     "output_type": "stream",
     "text": [
      "rick pays: $15\n",
      "beth pays: $15\n",
      "morty pays: $10\n",
      "summer pays: $10\n",
      "Total cost for the movies: $50\n"
     ]
    }
   ],
   "source": [
    "family = {\"rick\": 43, 'beth': 13, 'morty': 5, 'summer': 8}\n",
    "total = 0\n",
    "for membre, age in family.items():\n",
    "    if age < 3:\n",
    "        cost= 0\n",
    "    elif (age>3 and age<12):\n",
    "        cost=10\n",
    "    else: \n",
    "        cost=15\n",
    "    total +=cost\n",
    "    print(f\"{membre} pays: ${cost}\")\n",
    "    \n",
    "print(f\"Total cost for the movies: ${total}\")\n",
    "# for person, age in family.items():\n",
    "#     if age < 3:\n",
    "#         price = 0\n",
    "#     elif 3 <= age <= 12:\n",
    "#         price = 10\n",
    "#     else:\n",
    "#         price = 15\n",
    "#     total_cost += price\n",
    "#     print(f\"{person} pays: ${price}\")\n",
    "\n",
    "# print(f\"Total cost for the movies: ${total_cost}\")\n"
   ]
  },
  {
   "cell_type": "markdown",
   "id": "ddf86b0f-77ef-4a06-a35d-d05ae26706ae",
   "metadata": {},
   "source": [
    "* Exercice 3\n",
    "* Create and manipulate a dictionary that contains information about the Zara brand.\n",
    "- name: Zara\n",
    "- creation_date: 1975\n",
    "- creator_name: Amancio Ortega Gaona\n",
    "- type_of_clothes: men, women, children, home\n",
    "- international_competitors: Gap, H&M, Benetton\n",
    "- number_stores: 7000\n",
    "- major_color: \n",
    "    - France: blue, \n",
    "    - Spain: red, \n",
    "    - US: pink, green"
   ]
  },
  {
   "cell_type": "code",
   "execution_count": 41,
   "id": "c175b53a-1c20-4ccb-bd4b-5dcb17c27e80",
   "metadata": {},
   "outputs": [],
   "source": [
    "#Create a dictionary called brand with the provided data.\n",
    "brand={\n",
    "    'name': 'Zara',\n",
    "    'creation_date': '1975',\n",
    "    'creator_name': 'Amancio Ortega Gaona',\n",
    "    'type_of_clothes':['men', 'women', 'children', 'home'],\n",
    "    'international_competitors': ['Gap', 'H&M', 'Benetton'],\n",
    "    'number_stores': 7000,\n",
    "    'major_color':{\n",
    "                'France': 'blue',\n",
    "                'Spain': 'red',\n",
    "                'US': ['pink', 'green']\n",
    "                }\n",
    "}\n"
   ]
  },
  {
   "cell_type": "code",
   "execution_count": 42,
   "id": "fff9a940-0701-4e5c-bcf1-6f6144059c55",
   "metadata": {},
   "outputs": [
    {
     "name": "stdout",
     "output_type": "stream",
     "text": [
      "{'name': 'Zara', 'creation_date': '1975', 'creator_name': 'Amancio Ortega Gaona', 'type_of_clothes': ['men', 'women', 'children', 'home'], 'international_competitors': ['Gap', 'H&M', 'Benetton'], 'number_stores': 2, 'major_color': {'France': 'blue', 'Spain': 'red', 'US': ['pink', 'green']}}\n"
     ]
    }
   ],
   "source": [
    "#Modify and access the dictionary as follows:\n",
    "#Change the value of number_stores to 2.\n",
    "brand['number_stores'] = 2\n",
    "print(brand)\n"
   ]
  },
  {
   "cell_type": "code",
   "execution_count": 43,
   "id": "5063459d-6c9a-4dcc-9336-dd796d822f11",
   "metadata": {},
   "outputs": [
    {
     "name": "stdout",
     "output_type": "stream",
     "text": [
      "Zara's clients are: men, women, children, home\n"
     ]
    }
   ],
   "source": [
    "#Print a sentence describing Zara’s clients using the type_of_clothes key.\n",
    "print(f\"Zara's clients are: {', '.join(brand['type_of_clothes'])}\")"
   ]
  },
  {
   "cell_type": "code",
   "execution_count": 44,
   "id": "b41ff211-7153-4d31-820c-6ad3dd814ced",
   "metadata": {},
   "outputs": [
    {
     "name": "stdout",
     "output_type": "stream",
     "text": [
      "{'name': 'Zara', 'creation_date': '1975', 'creator_name': 'Amancio Ortega Gaona', 'type_of_clothes': ['men', 'women', 'children', 'home'], 'international_competitors': ['Gap', 'H&M', 'Benetton'], 'number_stores': 2, 'major_color': {'France': 'blue', 'Spain': 'red', 'US': ['pink', 'green']}, 'country_creation': 'Spain'}\n"
     ]
    }
   ],
   "source": [
    "#Add a new key country_creation with the value Spain.\n",
    "brand['country_creation'] = 'Spain'\n",
    "print(brand)"
   ]
  },
  {
   "cell_type": "code",
   "execution_count": 46,
   "id": "6f293dc8-9652-45ff-923f-c9cac2e56ec0",
   "metadata": {},
   "outputs": [
    {
     "name": "stdout",
     "output_type": "stream",
     "text": [
      "{'name': 'Zara', 'creation_date': '1975', 'creator_name': 'Amancio Ortega Gaona', 'type_of_clothes': ['men', 'women', 'children', 'home'], 'international_competitors': ['Gap', 'H&M', 'Benetton', 'Desigual'], 'number_stores': 2, 'major_color': {'France': 'blue', 'Spain': 'red', 'US': ['pink', 'green']}, 'country_creation': 'Spain'}\n"
     ]
    }
   ],
   "source": [
    "#Check if international_competitors exists and, if so, add “Desigual” to the list.\n",
    "#brand[\"international_competitors\"].append(\"Desigual\")\n",
    "if 'Desigual' not in brand['international_competitors']:\n",
    "    brand['international_competitors'].append('Desigual')\n",
    "print(brand)"
   ]
  },
  {
   "cell_type": "code",
   "execution_count": 47,
   "id": "d7d0613e-7ff4-4e52-9230-7e11fc6c79f8",
   "metadata": {},
   "outputs": [],
   "source": [
    "#Delete the creation_date key.\n",
    "del brand[\"creation_date\"]"
   ]
  },
  {
   "cell_type": "code",
   "execution_count": 48,
   "id": "cdf40321-412c-462d-8c7d-d448b196b0aa",
   "metadata": {},
   "outputs": [
    {
     "name": "stdout",
     "output_type": "stream",
     "text": [
      "Desigual\n"
     ]
    }
   ],
   "source": [
    "#Print the last item in international_competitors.\n",
    "print(brand['international_competitors'][-1])"
   ]
  },
  {
   "cell_type": "code",
   "execution_count": 49,
   "id": "fde4739e-f1c1-4d71-831e-628ab3a8670d",
   "metadata": {},
   "outputs": [
    {
     "name": "stdout",
     "output_type": "stream",
     "text": [
      "Major clothes colors in the US: pink, green\n"
     ]
    }
   ],
   "source": [
    "#Print the major colors in the US.\n",
    "print(f\"Major clothes colors in the US: {', '.join(brand['major_color']['US'])}\") #['key']['key']"
   ]
  },
  {
   "cell_type": "code",
   "execution_count": 50,
   "id": "70310de6-70ee-4c8a-a19b-7899542ab01c",
   "metadata": {},
   "outputs": [
    {
     "name": "stdout",
     "output_type": "stream",
     "text": [
      "Dictionary length: 7\n"
     ]
    }
   ],
   "source": [
    "#Print the number of keys in the dictionary.\n",
    "print(f\"Dictionary length: {len(brand)}\")"
   ]
  },
  {
   "cell_type": "code",
   "execution_count": 51,
   "id": "afe75d5f-a193-4e8b-9a62-e8a73682697e",
   "metadata": {},
   "outputs": [
    {
     "name": "stdout",
     "output_type": "stream",
     "text": [
      "all keys of the dictionary: dict_keys(['name', 'creator_name', 'type_of_clothes', 'international_competitors', 'number_stores', 'major_color', 'country_creation'])\n"
     ]
    }
   ],
   "source": [
    "#Print all keys of the dictionary.\n",
    "print(f\"all keys of the dictionary: {brand.keys()}\")"
   ]
  },
  {
   "cell_type": "code",
   "execution_count": 52,
   "id": "388ecc06-20f7-4d52-8487-cd916b777b78",
   "metadata": {},
   "outputs": [],
   "source": [
    "#Create another dictionary called more_on_zara with creation_date and number_stores\n",
    "more_on_zara={\n",
    "    'creation_date':'1974',\n",
    "    'number_stores': 1000\n",
    "}"
   ]
  },
  {
   "cell_type": "code",
   "execution_count": 53,
   "id": "90393dc1-3890-4e5d-8338-12c7b953f337",
   "metadata": {},
   "outputs": [
    {
     "name": "stdout",
     "output_type": "stream",
     "text": [
      "Number of stores after update: 1000\n"
     ]
    }
   ],
   "source": [
    "#Merge this dictionary with the original brand dictionary and print the result.\n",
    "brand.update(more_on_zara)\n",
    "print(f\"Number of stores after update: {brand['number_stores']}\")"
   ]
  },
  {
   "cell_type": "markdown",
   "id": "67158db4-4e79-4511-9fc9-17389ed6689e",
   "metadata": {},
   "source": [
    "*  **Exercise 4** : Some Geography "
   ]
  },
  {
   "cell_type": "markdown",
   "id": "c55ca5fe-719e-44fb-b032-68de486a55b9",
   "metadata": {},
   "source": [
    "* Step 1: Define a Function with Parameters\n",
    "\n",
    "- Define a function named describe_city().\n",
    "- This function should accept two parameters: city and country.\n",
    "- Give the country parameter a default value, such as “Unknown”.\n"
   ]
  },
  {
   "cell_type": "code",
   "execution_count": 56,
   "id": "3516d5e4-14f3-418a-80e1-263176bb9d7e",
   "metadata": {},
   "outputs": [
    {
     "name": "stdout",
     "output_type": "stream",
     "text": [
      "Paris is in France\n",
      "London is in England\n"
     ]
    }
   ],
   "source": [
    "def describe_city(city, country):\n",
    "    #tep 2: Print a Message\n",
    "    print(f\"{city} is in {country}\")\n",
    "\n",
    "#Call the function\n",
    "describe_city(\"Paris\", \"France\")\n",
    "describe_city(\"London\", \"England\")"
   ]
  },
  {
   "cell_type": "markdown",
   "id": "1c9398db-0665-4067-90af-343f9bb60202",
   "metadata": {},
   "source": [
    "*  Exercise 5 : Random"
   ]
  },
  {
   "cell_type": "code",
   "execution_count": null,
   "id": "b2ee6f78-b812-4cf2-90b4-9b7016ebb156",
   "metadata": {},
   "outputs": [],
   "source": [
    "#Step 1: Import the random Module\n",
    "import random\n",
    "#At the beginning of your script, use import random to access the random number generation functions.\n",
    "\n",
    "games = 0\n",
    "wins = 0\n",
    "losses = 0\n",
    "\n",
    "input_number = 1\n",
    "#Step 2: Define a Function with a Parameter\n",
    "while input_number > 0 or input_number < 11:\n",
    "\n",
    "    random_number = random.randint(0, 9)\n",
    "\n",
    "    input_number = int(input(\"Give me a random number between 0 and 9\\nType in '10' if you want to quit:\\t\"))\n",
    "\n",
    "    if input_number == 10:\n",
    "        print(\"Goodbye\")\n",
    "        break\n",
    "    else:\n",
    "        games += 1\n",
    "        if input_number == random_number:\n",
    "            print(\"Congratulations. You guessed right\\n\")\n",
    "            wins += 1\n",
    "        else:\n",
    "            print(\"Sorry. You were wrong. Try again?\\n\")\n",
    "            losses += 1\n",
    "\n",
    "print(f\"You played {games} games and had {wins} wins and {losses} losses!\")\n",
    "\n",
    "\n",
    "\n",
    "#Create a function that accepts a number between 1 and 10 as a parameter.\n",
    "\n",
    "\n",
    "#Step 3: Generate a Random Number\n",
    "\n",
    "#Inside the function, use random.randint(1, 10) to generate a random integer between 1 and 10.\n",
    "\n",
    "\n",
    "#Step 4: Compare the Numbers\n",
    "\n",
    "#If they are the same, print a success message. Otherwise, print a fail message and display both numbers.\n",
    "\n",
    "\n",
    "#Step 5: Call the Function\n",
    "\n",
    "#Call the function with a number between 1 and 100."
   ]
  },
  {
   "cell_type": "code",
   "execution_count": 64,
   "id": "e36e14c4-41a7-496f-9111-dc6c7d86643e",
   "metadata": {},
   "outputs": [],
   "source": [
    "def upper_string(s):\n",
    "    return s.upper()\n",
    "\n",
    "fruit = [\"Apple\", \"Banana\", \"Pear\", \"Apricot\", \"Orange\"]\n",
    "map_object = map(upper_string, fruit)"
   ]
  },
  {
   "cell_type": "code",
   "execution_count": 68,
   "id": "9d5efab6-68cc-438a-805a-fdd63079cfab",
   "metadata": {},
   "outputs": [
    {
     "name": "stdout",
     "output_type": "stream",
     "text": [
      "<map object at 0x000002E4D3EA4F70>\n"
     ]
    }
   ],
   "source": [
    "print(map_object)"
   ]
  },
  {
   "cell_type": "code",
   "execution_count": 70,
   "id": "fb59a5b1-c9ee-4456-9499-d8666bc24491",
   "metadata": {},
   "outputs": [
    {
     "name": "stdout",
     "output_type": "stream",
     "text": [
      "16\n"
     ]
    }
   ],
   "source": [
    "from functools import reduce\n",
    "my_list = [1, 3, 5, 7]\n",
    "reduced_list = reduce(lambda first, second: first+second, my_list)\n",
    "print(reduced_list)"
   ]
  },
  {
   "cell_type": "code",
   "execution_count": 71,
   "id": "ef4cf4a1-c083-4186-bbc0-73c5e287e05b",
   "metadata": {},
   "outputs": [
    {
     "name": "stdout",
     "output_type": "stream",
     "text": [
      "A new dog has been initialized !\n",
      "His name is Rex\n",
      "A new dog has been initialized !\n",
      "His name is Rex\n",
      "The history saving thread hit an unexpected error (OperationalError('database or disk is full')).History will not be written to the database.\n"
     ]
    }
   ],
   "source": [
    "class Dog():\n",
    "    # Initializer / Instance Attributes\n",
    "    def __init__(self, name_of_the_dog):\n",
    "        print(\"A new dog has been initialized !\")\n",
    "        print(\"His name is\", name_of_the_dog)\n",
    "\n",
    "shelter_dog = Dog(name_of_the_dog=\"Rex\")\n",
    "# or\n",
    "shelter_dog = Dog(\"Rex\")\n"
   ]
  },
  {
   "cell_type": "code",
   "execution_count": null,
   "id": "4fc27b41-bf7a-4c30-bea6-ae532713416f",
   "metadata": {},
   "outputs": [],
   "source": []
  }
 ],
 "metadata": {
  "kernelspec": {
   "display_name": "Python 3 (ipykernel)",
   "language": "python",
   "name": "python3"
  },
  "language_info": {
   "codemirror_mode": {
    "name": "ipython",
    "version": 3
   },
   "file_extension": ".py",
   "mimetype": "text/x-python",
   "name": "python",
   "nbconvert_exporter": "python",
   "pygments_lexer": "ipython3",
   "version": "3.12.3"
  }
 },
 "nbformat": 4,
 "nbformat_minor": 5
}
